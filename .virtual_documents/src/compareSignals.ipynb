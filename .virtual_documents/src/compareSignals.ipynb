import numpy
from main import *
import librosa
import os
import pyplot as plt



original, _=openFile(r"..\viblib\v-09-09-8-11.wav")
converted, sr=openFile(r"..\viblib\test\v-09-09-8-11.wav")

original_fft=numpy.fft.fft(original)
converted_fft=numpy.fft.fft(converted)


frequencies = numpy.fft.fftfreq(n=len(original), d=1/sr)
plt.plot(original_fft, frequencies)
plt.xlable("frequency (hz)")



